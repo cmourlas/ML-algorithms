{
  "nbformat": 4,
  "nbformat_minor": 0,
  "metadata": {
    "colab": {
      "name": "crossvalidation.ipynb",
      "provenance": [],
      "collapsed_sections": [],
      "authorship_tag": "ABX9TyMP0T8dnH+G/VDFcCd3WZs+",
      "include_colab_link": true
    },
    "kernelspec": {
      "name": "python3",
      "display_name": "Python 3"
    }
  },
  "cells": [
    {
      "cell_type": "markdown",
      "metadata": {
        "id": "view-in-github",
        "colab_type": "text"
      },
      "source": [
        "<a href=\"https://colab.research.google.com/github/cmourlas/ML-algorithms/blob/master/crossvalidation.ipynb\" target=\"_parent\"><img src=\"https://colab.research.google.com/assets/colab-badge.svg\" alt=\"Open In Colab\"/></a>"
      ]
    },
    {
      "cell_type": "code",
      "metadata": {
        "id": "N-0skKzg1m0A",
        "colab_type": "code",
        "colab": {}
      },
      "source": [
        "import numpy as np\n",
        "\n",
        "from sklearn.model_selection import RepeatedKFold\n",
        "from sklearn.model_selection import train_test_split"
      ],
      "execution_count": 0,
      "outputs": []
    },
    {
      "cell_type": "code",
      "metadata": {
        "id": "HTjuNTNT1qyc",
        "colab_type": "code",
        "colab": {}
      },
      "source": [
        "from sklearn import datasets\n",
        "# Load the boston dataset\n",
        "data = datasets.load_boston()\n",
        " \n",
        "# extract the predictors and target data.\n",
        "X = data.data\n",
        "Y = data.target"
      ],
      "execution_count": 0,
      "outputs": []
    },
    {
      "cell_type": "code",
      "metadata": {
        "id": "CxPyAa4m6tpH",
        "colab_type": "code",
        "colab": {
          "base_uri": "https://localhost:8080/",
          "height": 980
        },
        "outputId": "cff7e560-3298-45c1-ca01-789b17dce30f"
      },
      "source": [
        "print(data.DESCR)"
      ],
      "execution_count": 4,
      "outputs": [
        {
          "output_type": "stream",
          "text": [
            ".. _boston_dataset:\n",
            "\n",
            "Boston house prices dataset\n",
            "---------------------------\n",
            "\n",
            "**Data Set Characteristics:**  \n",
            "\n",
            "    :Number of Instances: 506 \n",
            "\n",
            "    :Number of Attributes: 13 numeric/categorical predictive. Median Value (attribute 14) is usually the target.\n",
            "\n",
            "    :Attribute Information (in order):\n",
            "        - CRIM     per capita crime rate by town\n",
            "        - ZN       proportion of residential land zoned for lots over 25,000 sq.ft.\n",
            "        - INDUS    proportion of non-retail business acres per town\n",
            "        - CHAS     Charles River dummy variable (= 1 if tract bounds river; 0 otherwise)\n",
            "        - NOX      nitric oxides concentration (parts per 10 million)\n",
            "        - RM       average number of rooms per dwelling\n",
            "        - AGE      proportion of owner-occupied units built prior to 1940\n",
            "        - DIS      weighted distances to five Boston employment centres\n",
            "        - RAD      index of accessibility to radial highways\n",
            "        - TAX      full-value property-tax rate per $10,000\n",
            "        - PTRATIO  pupil-teacher ratio by town\n",
            "        - B        1000(Bk - 0.63)^2 where Bk is the proportion of blacks by town\n",
            "        - LSTAT    % lower status of the population\n",
            "        - MEDV     Median value of owner-occupied homes in $1000's\n",
            "\n",
            "    :Missing Attribute Values: None\n",
            "\n",
            "    :Creator: Harrison, D. and Rubinfeld, D.L.\n",
            "\n",
            "This is a copy of UCI ML housing dataset.\n",
            "https://archive.ics.uci.edu/ml/machine-learning-databases/housing/\n",
            "\n",
            "\n",
            "This dataset was taken from the StatLib library which is maintained at Carnegie Mellon University.\n",
            "\n",
            "The Boston house-price data of Harrison, D. and Rubinfeld, D.L. 'Hedonic\n",
            "prices and the demand for clean air', J. Environ. Economics & Management,\n",
            "vol.5, 81-102, 1978.   Used in Belsley, Kuh & Welsch, 'Regression diagnostics\n",
            "...', Wiley, 1980.   N.B. Various transformations are used in the table on\n",
            "pages 244-261 of the latter.\n",
            "\n",
            "The Boston house-price data has been used in many machine learning papers that address regression\n",
            "problems.   \n",
            "     \n",
            ".. topic:: References\n",
            "\n",
            "   - Belsley, Kuh & Welsch, 'Regression diagnostics: Identifying Influential Data and Sources of Collinearity', Wiley, 1980. 244-261.\n",
            "   - Quinlan,R. (1993). Combining Instance-Based and Model-Based Learning. In Proceedings on the Tenth International Conference of Machine Learning, 236-243, University of Massachusetts, Amherst. Morgan Kaufmann.\n",
            "\n"
          ],
          "name": "stdout"
        }
      ]
    },
    {
      "cell_type": "markdown",
      "metadata": {
        "id": "sOJFMq891x23",
        "colab_type": "text"
      },
      "source": [
        "In order to determine the machine learning model’s accuracy, we have to train the model first and then test the performance of a Machine Learning model.\n",
        "\n",
        "How to do it:\n",
        "\n",
        "• Bad idea: train the model using the given dataset and then make predictions with the same dataset\n",
        "\n",
        "• A better option is to split our data into two parts: first part for training our machine learning model, and second part for testing our model\n",
        "\n",
        "Two scenarios:\n",
        "\n",
        "• If we have a big dataset, we can do that without any problems\n",
        "\n",
        "• If we have a small dataset, cross validation is the best option\n",
        "\n",
        "Summary of basic procedure:\n",
        "\n",
        "1. Split the dataset into two sets: training set and testing set\n",
        "\n",
        "2. Train the model on the training set\n",
        "\n",
        "3. Test the model on the testing set and compute\n",
        " performance measure (e.g. MSE)\n",
        " \n",
        "4. Only for cross validation: repeat steps 1 to 3, but use different splits"
      ]
    },
    {
      "cell_type": "code",
      "metadata": {
        "id": "LO-agQgf1zmp",
        "colab_type": "code",
        "colab": {}
      },
      "source": [
        "# Initialize empty list (to be filled with average results afterwards)\n",
        "ls_total_mse = []\n",
        "# Initialize empty list (to be filled with max depth afterwards)\n",
        "ls_max_depth = []\n"
      ],
      "execution_count": 0,
      "outputs": []
    },
    {
      "cell_type": "code",
      "metadata": {
        "id": "aJW5GfGu4yCb",
        "colab_type": "code",
        "colab": {}
      },
      "source": [
        "from sklearn.tree import DecisionTreeRegressor\n",
        "from sklearn.metrics import mean_squared_error\n",
        "import matplotlib.pyplot as plt\n",
        "%matplotlib inline"
      ],
      "execution_count": 0,
      "outputs": []
    },
    {
      "cell_type": "code",
      "metadata": {
        "id": "Th7VrDma16nb",
        "colab_type": "code",
        "colab": {
          "base_uri": "https://localhost:8080/",
          "height": 284
        },
        "outputId": "ab7fc66b-c600-4961-9ead-0e01ba6e5645"
      },
      "source": [
        "for current_max_depth in np.arange(10):\n",
        "  # Instantiate repeated cross validation (cv) object\n",
        "  our_cv = RepeatedKFold(n_splits=10, n_repeats=10)\n",
        "\n",
        "  # Which model: Instantiate decision trees (dt) regression\n",
        "  dt_reg = DecisionTreeRegressor(max_depth=current_max_depth+1)\n",
        "\n",
        "  # initialize empty list for single cv loop results\n",
        "  ls_mse_test = []\n",
        "\n",
        "    # Loop to make cross validation\n",
        "  for i_train, i_test in our_cv.split(X):\n",
        "\n",
        "    # 1. Split data into training and testing set\n",
        "    X_train, X_test, Y_train, Y_test = X[i_train], X[i_test], Y[i_train], Y[i_test]\n",
        "\n",
        "    # 2. Train DT regressor with train data - fit the model with training data\n",
        "    dt_reg.fit(X_train, Y_train)\n",
        "\n",
        "    # 3. Test regressor with test data\n",
        "    y_pred_test = dt_reg.predict(X_test)\n",
        "\n",
        "    # 4. Calc metric (e.g. mse)\n",
        "    current_mse_test = mean_squared_error(Y_test, y_pred_test)\n",
        "\n",
        "    # 5. Append to list\n",
        "    ls_mse_test.append(current_mse_test)\n",
        "    \n",
        "    # -> final: should be 100 values - 10 subsets *10 repeats\n",
        "  # 6. append max depth\n",
        "  ls_max_depth.append(current_max_depth+1)\n",
        "\n",
        "  # append mean of 100 mse to list\n",
        "  ls_total_mse.append(np.mean(ls_mse_test))\n",
        "  # final: 10 values – for every depth - one mean value\n",
        "# plot of MSE values over depths\n",
        "plt.plot(ls_max_depth, ls_total_mse)"
      ],
      "execution_count": 7,
      "outputs": [
        {
          "output_type": "execute_result",
          "data": {
            "text/plain": [
              "[<matplotlib.lines.Line2D at 0x7fa93f363048>]"
            ]
          },
          "metadata": {
            "tags": []
          },
          "execution_count": 7
        },
        {
          "output_type": "display_data",
          "data": {
            "image/png": "[encoded data removed]",
            "text/plain": [
              "<Figure size 432x288 with 1 Axes>"
            ]
          },
          "metadata": {
            "tags": [],
            "needs_background": "light"
          }
        }
      ]
    },
    {
      "cell_type": "code",
      "metadata": {
        "id": "SjLnxft07FWQ",
        "colab_type": "code",
        "colab": {
          "base_uri": "https://localhost:8080/",
          "height": 35
        },
        "outputId": "dfc6594d-0ea0-4953-a27f-016b06b1f32b"
      },
      "source": [
        "ls_max_depth"
      ],
      "execution_count": 28,
      "outputs": [
        {
          "output_type": "execute_result",
          "data": {
            "text/plain": [
              "[1, 2, 3, 4, 5, 6, 7, 8, 9, 10]"
            ]
          },
          "metadata": {
            "tags": []
          },
          "execution_count": 28
        }
      ]
    },
    {
      "cell_type": "code",
      "metadata": {
        "id": "Y6Ynmvl38WGp",
        "colab_type": "code",
        "colab": {
          "base_uri": "https://localhost:8080/",
          "height": 202
        },
        "outputId": "92333dbc-5fdb-4226-e584-6d560da8867e"
      },
      "source": [
        "ls_total_mse"
      ],
      "execution_count": 21,
      "outputs": [
        {
          "output_type": "execute_result",
          "data": {
            "text/plain": [
              "[53.59919300225331,\n",
              " 30.367421601939647,\n",
              " 25.674212587162046,\n",
              " 20.978477473384647,\n",
              " 18.790033147649183,\n",
              " 19.592198050563294,\n",
              " 18.74593133091863,\n",
              " 21.26534660953709,\n",
              " 19.954443501496407,\n",
              " 21.972973980923012]"
            ]
          },
          "metadata": {
            "tags": []
          },
          "execution_count": 21
        }
      ]
    },
    {
      "cell_type": "code",
      "metadata": {
        "id": "QGDZ9W9T4enz",
        "colab_type": "code",
        "colab": {
          "base_uri": "https://localhost:8080/",
          "height": 284
        },
        "outputId": "dfa79017-c939-496f-eeef-086c375819f6"
      },
      "source": [
        "# Το train_test_split θα χωρίσει αυτόματα τα δεδομένα μας σε 2 μέρη \n",
        "from sklearn.model_selection import train_test_split\n",
        "\n",
        "ls_mse_test = []\n",
        "ls_max_depth = []\n",
        "for current_max_depth in np.arange(10):\n",
        "  \n",
        "  # Which model: Instantiate decision trees (dt) regression\n",
        "  dt_reg = DecisionTreeRegressor(max_depth=current_max_depth+1)\n",
        "\n",
        "  # initialize empty list for single cv loop results\n",
        "  \n",
        "\n",
        "  # Loop to make cross validation\n",
        "  \n",
        "\n",
        "  # 1. Split data into training and testing set\n",
        "  X_train, X_test, Y_train, Y_test = train_test_split(\n",
        "    X, # αυτό είναι X \n",
        "    Y, #αυτό είναι Y\n",
        "    test_size=0.2) \n",
        "\n",
        "  # 2. Train DT regressor with train data - fit the model with training data\n",
        "  dt_reg.fit(X_train, Y_train)\n",
        "\n",
        "  # 3. Test regressor with test data\n",
        "  y_pred_test = dt_reg.predict(X_test)\n",
        "\n",
        "  # 4. Calc metric (e.g. mse)\n",
        "  current_mse_test = mean_squared_error(Y_test, y_pred_test)\n",
        "\n",
        "  # 5. Append to list\n",
        "  ls_mse_test.append(current_mse_test)\n",
        "    \n",
        "  # 6. append max depth\n",
        "  ls_max_depth.append(current_max_depth+1)\n",
        "\n",
        "# plot of MSE values over depths\n",
        "plt.plot(ls_max_depth, ls_mse_test)"
      ],
      "execution_count": 14,
      "outputs": [
        {
          "output_type": "execute_result",
          "data": {
            "text/plain": [
              "[<matplotlib.lines.Line2D at 0x7fa93e9a4dd8>]"
            ]
          },
          "metadata": {
            "tags": []
          },
          "execution_count": 14
        },
        {
          "output_type": "display_data",
          "data": {
            "image/png": "[encoded data removed]",
            "text/plain": [
              "<Figure size 432x288 with 1 Axes>"
            ]
          },
          "metadata": {
            "tags": [],
            "needs_background": "light"
          }
        }
      ]
    },
    {
      "cell_type": "code",
      "metadata": {
        "id": "DgOJO6bf-bWQ",
        "colab_type": "code",
        "colab": {}
      },
      "source": [
        ""
      ],
      "execution_count": 0,
      "outputs": []
    }
  ]
}