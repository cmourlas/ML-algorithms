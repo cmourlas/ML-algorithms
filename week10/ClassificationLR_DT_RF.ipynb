{
  "nbformat": 4,
  "nbformat_minor": 0,
  "metadata": {
    "kernelspec": {
      "display_name": "Python 3",
      "language": "python",
      "name": "python3"
    },
    "language_info": {
      "codemirror_mode": {
        "name": "ipython",
        "version": 3
      },
      "file_extension": ".py",
      "mimetype": "text/x-python",
      "name": "python",
      "nbconvert_exporter": "python",
      "pygments_lexer": "ipython3",
      "version": "3.7.7"
    },
    "colab": {
      "name": "ClassificationLR_DT_RF.ipynb",
      "provenance": [],
      "collapsed_sections": []
    }
  },
  "cells": [
    {
      "cell_type": "markdown",
      "metadata": {
        "id": "0Deh9gixRlbe",
        "colab_type": "text"
      },
      "source": [
        "# Classification with logistic regression, decision trees and Random Forests\n",
        "\n",
        "Ως τώρα έχουμε γνωρίσει ορισμένους σημαντικούς αλγορίθμους μηχανικής μάθησης.  Ως τώρα έχουμε εφαρμόσει κυρίως τους αλγορίθμους αυτούς  σε προβλήματα regression.  \n",
        "Όμως, μπορούμε με τους ίδιους αλγορίθμους, αντί να προβλέψουμε την τιμή ενός σπιτιού ή την ποιότητα ενός κρασιού, να προβλέψουμε την κατηγορία που ένα στοιχείο ανήκει.\n",
        "Ένα συχνό παράδειγμα καητοριοποίησης, προέρχεται από τον ιατρικό κλάδο και συγκεκριμένα ή κατηγοριοποίηση ενός όγκου ως καλοήθη ή κακοήθη. A\n",
        " \n",
        "\n",
        "\n",
        "\n",
        "Χρήσιμοι Σύνδεσμοι (ημερομ. πρόσβασης 2.6.2020):\n",
        "\n",
        "- https://realpython.com/logistic-regression-python/\n",
        "\n",
        "- https://scikit-learn.org/stable/modules/generated/sklearn.datasets.load_breast_cancer.html#sklearn.datasets.load_breast_cancer\n",
        "\n",
        "- https://www.kaggle.com/rafjaa/resampling-strategies-for-imbalanced-datasets\n",
        "\n",
        "- https://elitedatascience.com/imbalanced-classes\n",
        "\n",
        "- https://machinelearningmastery.com/cross-validation-for-imbalanced-classification/\n"
      ]
    },
    {
      "cell_type": "code",
      "metadata": {
        "id": "mIN-3_f8Rlbi",
        "colab_type": "code",
        "colab": {}
      },
      "source": [
        "# Import packages that we will need in the exercise\n",
        "import pandas as pd\n",
        "import numpy as np\n",
        "import matplotlib.pyplot as plt\n",
        "from sklearn.model_selection import RepeatedKFold, train_test_split\n",
        "from sklearn import datasets"
      ],
      "execution_count": 0,
      "outputs": []
    },
    {
      "cell_type": "markdown",
      "metadata": {
        "id": "uvTwuWPjRlbx",
        "colab_type": "text"
      },
      "source": [
        "## Importing and preparing the data\n",
        "\n",
        "We will use a dataset from sklearn."
      ]
    },
    {
      "cell_type": "code",
      "metadata": {
        "id": "yRDy4WYaRlb8",
        "colab_type": "code",
        "colab": {}
      },
      "source": [
        "# Load the data\n",
        "cancer_set = datasets.load_breast_cancer()\n",
        "# Transform data to a dataframe\n",
        "cancer_df = pd.DataFrame(cancer_set.data, columns=cancer_set.feature_names)\n",
        "# Add the target column \n",
        "cancer_df['diagnosis'] = pd.Series(cancer_set.target)"
      ],
      "execution_count": 0,
      "outputs": []
    },
    {
      "cell_type": "code",
      "metadata": {
        "id": "FfDvP-ZsRlcI",
        "colab_type": "code",
        "colab": {
          "base_uri": "https://localhost:8080/",
          "height": 261
        },
        "outputId": "d5605bde-e946-4f70-a53f-8f23e4edc999"
      },
      "source": [
        "# View the first lines of our dataframe\n",
        "cancer_df.head()"
      ],
      "execution_count": 3,
      "outputs": [
        {
          "output_type": "execute_result",
          "data": {
            "text/html": [
              "<div>\n",
              "<style scoped>\n",
              "    .dataframe tbody tr th:only-of-type {\n",
              "        vertical-align: middle;\n",
              "    }\n",
              "\n",
              "    .dataframe tbody tr th {\n",
              "        vertical-align: top;\n",
              "    }\n",
              "\n",
              "    .dataframe thead th {\n",
              "        text-align: right;\n",
              "    }\n",
              "</style>\n",
              "<table border=\"1\" class=\"dataframe\">\n",
              "  <thead>\n",
              "    <tr style=\"text-align: right;\">\n",
              "      <th></th>\n",
              "      <th>mean radius</th>\n",
              "      <th>mean texture</th>\n",
              "      <th>mean perimeter</th>\n",
              "      <th>mean area</th>\n",
              "      <th>mean smoothness</th>\n",
              "      <th>mean compactness</th>\n",
              "      <th>mean concavity</th>\n",
              "      <th>mean concave points</th>\n",
              "      <th>mean symmetry</th>\n",
              "      <th>mean fractal dimension</th>\n",
              "      <th>radius error</th>\n",
              "      <th>texture error</th>\n",
              "      <th>perimeter error</th>\n",
              "      <th>area error</th>\n",
              "      <th>smoothness error</th>\n",
              "      <th>compactness error</th>\n",
              "      <th>concavity error</th>\n",
              "      <th>concave points error</th>\n",
              "      <th>symmetry error</th>\n",
              "      <th>fractal dimension error</th>\n",
              "      <th>worst radius</th>\n",
              "      <th>worst texture</th>\n",
              "      <th>worst perimeter</th>\n",
              "      <th>worst area</th>\n",
              "      <th>worst smoothness</th>\n",
              "      <th>worst compactness</th>\n",
              "      <th>worst concavity</th>\n",
              "      <th>worst concave points</th>\n",
              "      <th>worst symmetry</th>\n",
              "      <th>worst fractal dimension</th>\n",
              "      <th>diagnosis</th>\n",
              "    </tr>\n",
              "  </thead>\n",
              "  <tbody>\n",
              "    <tr>\n",
              "      <th>0</th>\n",
              "      <td>17.99</td>\n",
              "      <td>10.38</td>\n",
              "      <td>122.80</td>\n",
              "      <td>1001.0</td>\n",
              "      <td>0.11840</td>\n",
              "      <td>0.27760</td>\n",
              "      <td>0.3001</td>\n",
              "      <td>0.14710</td>\n",
              "      <td>0.2419</td>\n",
              "      <td>0.07871</td>\n",
              "      <td>1.0950</td>\n",
              "      <td>0.9053</td>\n",
              "      <td>8.589</td>\n",
              "      <td>153.40</td>\n",
              "      <td>0.006399</td>\n",
              "      <td>0.04904</td>\n",
              "      <td>0.05373</td>\n",
              "      <td>0.01587</td>\n",
              "      <td>0.03003</td>\n",
              "      <td>0.006193</td>\n",
              "      <td>25.38</td>\n",
              "      <td>17.33</td>\n",
              "      <td>184.60</td>\n",
              "      <td>2019.0</td>\n",
              "      <td>0.1622</td>\n",
              "      <td>0.6656</td>\n",
              "      <td>0.7119</td>\n",
              "      <td>0.2654</td>\n",
              "      <td>0.4601</td>\n",
              "      <td>0.11890</td>\n",
              "      <td>0</td>\n",
              "    </tr>\n",
              "    <tr>\n",
              "      <th>1</th>\n",
              "      <td>20.57</td>\n",
              "      <td>17.77</td>\n",
              "      <td>132.90</td>\n",
              "      <td>1326.0</td>\n",
              "      <td>0.08474</td>\n",
              "      <td>0.07864</td>\n",
              "      <td>0.0869</td>\n",
              "      <td>0.07017</td>\n",
              "      <td>0.1812</td>\n",
              "      <td>0.05667</td>\n",
              "      <td>0.5435</td>\n",
              "      <td>0.7339</td>\n",
              "      <td>3.398</td>\n",
              "      <td>74.08</td>\n",
              "      <td>0.005225</td>\n",
              "      <td>0.01308</td>\n",
              "      <td>0.01860</td>\n",
              "      <td>0.01340</td>\n",
              "      <td>0.01389</td>\n",
              "      <td>0.003532</td>\n",
              "      <td>24.99</td>\n",
              "      <td>23.41</td>\n",
              "      <td>158.80</td>\n",
              "      <td>1956.0</td>\n",
              "      <td>0.1238</td>\n",
              "      <td>0.1866</td>\n",
              "      <td>0.2416</td>\n",
              "      <td>0.1860</td>\n",
              "      <td>0.2750</td>\n",
              "      <td>0.08902</td>\n",
              "      <td>0</td>\n",
              "    </tr>\n",
              "    <tr>\n",
              "      <th>2</th>\n",
              "      <td>19.69</td>\n",
              "      <td>21.25</td>\n",
              "      <td>130.00</td>\n",
              "      <td>1203.0</td>\n",
              "      <td>0.10960</td>\n",
              "      <td>0.15990</td>\n",
              "      <td>0.1974</td>\n",
              "      <td>0.12790</td>\n",
              "      <td>0.2069</td>\n",
              "      <td>0.05999</td>\n",
              "      <td>0.7456</td>\n",
              "      <td>0.7869</td>\n",
              "      <td>4.585</td>\n",
              "      <td>94.03</td>\n",
              "      <td>0.006150</td>\n",
              "      <td>0.04006</td>\n",
              "      <td>0.03832</td>\n",
              "      <td>0.02058</td>\n",
              "      <td>0.02250</td>\n",
              "      <td>0.004571</td>\n",
              "      <td>23.57</td>\n",
              "      <td>25.53</td>\n",
              "      <td>152.50</td>\n",
              "      <td>1709.0</td>\n",
              "      <td>0.1444</td>\n",
              "      <td>0.4245</td>\n",
              "      <td>0.4504</td>\n",
              "      <td>0.2430</td>\n",
              "      <td>0.3613</td>\n",
              "      <td>0.08758</td>\n",
              "      <td>0</td>\n",
              "    </tr>\n",
              "    <tr>\n",
              "      <th>3</th>\n",
              "      <td>11.42</td>\n",
              "      <td>20.38</td>\n",
              "      <td>77.58</td>\n",
              "      <td>386.1</td>\n",
              "      <td>0.14250</td>\n",
              "      <td>0.28390</td>\n",
              "      <td>0.2414</td>\n",
              "      <td>0.10520</td>\n",
              "      <td>0.2597</td>\n",
              "      <td>0.09744</td>\n",
              "      <td>0.4956</td>\n",
              "      <td>1.1560</td>\n",
              "      <td>3.445</td>\n",
              "      <td>27.23</td>\n",
              "      <td>0.009110</td>\n",
              "      <td>0.07458</td>\n",
              "      <td>0.05661</td>\n",
              "      <td>0.01867</td>\n",
              "      <td>0.05963</td>\n",
              "      <td>0.009208</td>\n",
              "      <td>14.91</td>\n",
              "      <td>26.50</td>\n",
              "      <td>98.87</td>\n",
              "      <td>567.7</td>\n",
              "      <td>0.2098</td>\n",
              "      <td>0.8663</td>\n",
              "      <td>0.6869</td>\n",
              "      <td>0.2575</td>\n",
              "      <td>0.6638</td>\n",
              "      <td>0.17300</td>\n",
              "      <td>0</td>\n",
              "    </tr>\n",
              "    <tr>\n",
              "      <th>4</th>\n",
              "      <td>20.29</td>\n",
              "      <td>14.34</td>\n",
              "      <td>135.10</td>\n",
              "      <td>1297.0</td>\n",
              "      <td>0.10030</td>\n",
              "      <td>0.13280</td>\n",
              "      <td>0.1980</td>\n",
              "      <td>0.10430</td>\n",
              "      <td>0.1809</td>\n",
              "      <td>0.05883</td>\n",
              "      <td>0.7572</td>\n",
              "      <td>0.7813</td>\n",
              "      <td>5.438</td>\n",
              "      <td>94.44</td>\n",
              "      <td>0.011490</td>\n",
              "      <td>0.02461</td>\n",
              "      <td>0.05688</td>\n",
              "      <td>0.01885</td>\n",
              "      <td>0.01756</td>\n",
              "      <td>0.005115</td>\n",
              "      <td>22.54</td>\n",
              "      <td>16.67</td>\n",
              "      <td>152.20</td>\n",
              "      <td>1575.0</td>\n",
              "      <td>0.1374</td>\n",
              "      <td>0.2050</td>\n",
              "      <td>0.4000</td>\n",
              "      <td>0.1625</td>\n",
              "      <td>0.2364</td>\n",
              "      <td>0.07678</td>\n",
              "      <td>0</td>\n",
              "    </tr>\n",
              "  </tbody>\n",
              "</table>\n",
              "</div>"
            ],
            "text/plain": [
              "   mean radius  mean texture  ...  worst fractal dimension  diagnosis\n",
              "0        17.99         10.38  ...                  0.11890          0\n",
              "1        20.57         17.77  ...                  0.08902          0\n",
              "2        19.69         21.25  ...                  0.08758          0\n",
              "3        11.42         20.38  ...                  0.17300          0\n",
              "4        20.29         14.34  ...                  0.07678          0\n",
              "\n",
              "[5 rows x 31 columns]"
            ]
          },
          "metadata": {
            "tags": []
          },
          "execution_count": 3
        }
      ]
    },
    {
      "cell_type": "markdown",
      "metadata": {
        "id": "Rbmq1YxHRlcS",
        "colab_type": "text"
      },
      "source": [
        "Now our data is ready. First warm-up exercise:\n",
        "We have a total sample of 569 samples. 212 of them are malignant and 357 benign. \n",
        "Do the ones or the zeros indicate the malignant cases?\n",
        "You will find the solution below.\n"
      ]
    },
    {
      "cell_type": "code",
      "metadata": {
        "id": "f80BVCeQRlcU",
        "colab_type": "code",
        "colab": {}
      },
      "source": [
        "# Check which classes correspond to benign or malignant. \n",
        "\n"
      ],
      "execution_count": 0,
      "outputs": []
    },
    {
      "cell_type": "markdown",
      "metadata": {
        "id": "u0uuEOb5Rlcd",
        "colab_type": "text"
      },
      "source": [
        "## Cleaning the data"
      ]
    },
    {
      "cell_type": "code",
      "metadata": {
        "id": "9gpuHjEdRlcf",
        "colab_type": "code",
        "colab": {
          "base_uri": "https://localhost:8080/",
          "height": 653
        },
        "outputId": "d02a255d-20ef-4125-ce7f-8a1f8aa36cec"
      },
      "source": [
        "# Check whether we have cases to exclude due to missing data\n",
        "print(\"Shape of the dataframe: \"+str(cancer_df.shape))\n",
        "# Check for missing values\n",
        "print(\"Missing values: \\n\"+str(cancer_df.isnull().sum()))"
      ],
      "execution_count": 5,
      "outputs": [
        {
          "output_type": "stream",
          "text": [
            "Shape of the dataframe: (569, 31)\n",
            "Missing values: \n",
            "mean radius                0\n",
            "mean texture               0\n",
            "mean perimeter             0\n",
            "mean area                  0\n",
            "mean smoothness            0\n",
            "mean compactness           0\n",
            "mean concavity             0\n",
            "mean concave points        0\n",
            "mean symmetry              0\n",
            "mean fractal dimension     0\n",
            "radius error               0\n",
            "texture error              0\n",
            "perimeter error            0\n",
            "area error                 0\n",
            "smoothness error           0\n",
            "compactness error          0\n",
            "concavity error            0\n",
            "concave points error       0\n",
            "symmetry error             0\n",
            "fractal dimension error    0\n",
            "worst radius               0\n",
            "worst texture              0\n",
            "worst perimeter            0\n",
            "worst area                 0\n",
            "worst smoothness           0\n",
            "worst compactness          0\n",
            "worst concavity            0\n",
            "worst concave points       0\n",
            "worst symmetry             0\n",
            "worst fractal dimension    0\n",
            "diagnosis                  0\n",
            "dtype: int64\n"
          ],
          "name": "stdout"
        }
      ]
    },
    {
      "cell_type": "code",
      "metadata": {
        "id": "bwkLWkrWRlcr",
        "colab_type": "code",
        "colab": {
          "base_uri": "https://localhost:8080/",
          "height": 36
        },
        "outputId": "fe806807-dcd9-4d3f-9600-f26f4bbc9499"
      },
      "source": [
        "# Although we did not find a missing value, here we work through the pipeline that we would use to exclude missing values\n",
        "# a. Making a list of missing value types\n",
        "missing_values = [\"n/a\", \"na\", \"--\", 999,9999]   \n",
        "# b. Replace values - the line below means: df.replace(what should be replaced, with which value, do not make a copy of df)\n",
        "cancer_df.replace(to_replace = missing_values, value = np.nan, inplace = True) \n",
        "# c. Drop lines containing NaNs \n",
        "cancer_df.dropna(inplace=True) \n",
        "# d. Reindex the dataframe. After deletion of the missing values, index do not fit anymore, because lines are missing\n",
        "cancer_df.reset_index(drop=True, inplace=True)  \n",
        "# Check the dimensions over again. We did not have to exclude a row due to missing data. \n",
        "print(\"Shape of the dataframe: \"+str(cancer_df.shape))"
      ],
      "execution_count": 6,
      "outputs": [
        {
          "output_type": "stream",
          "text": [
            "Shape of the dataframe: (569, 31)\n"
          ],
          "name": "stdout"
        }
      ]
    },
    {
      "cell_type": "code",
      "metadata": {
        "id": "DgMmxQgCRlc1",
        "colab_type": "code",
        "colab": {
          "base_uri": "https://localhost:8080/",
          "height": 36
        },
        "outputId": "97e7575d-fac3-4cc5-dbb5-dd6d562f0174"
      },
      "source": [
        "# Now let's see which one is malignant and which benign\n",
        "np.sum(cancer_df.diagnosis)\n",
        "# Remember we have 212 malignant cases and 357 benign"
      ],
      "execution_count": 7,
      "outputs": [
        {
          "output_type": "execute_result",
          "data": {
            "text/plain": [
              "357"
            ]
          },
          "metadata": {
            "tags": []
          },
          "execution_count": 7
        }
      ]
    },
    {
      "cell_type": "markdown",
      "metadata": {
        "id": "PJGYzUedRldA",
        "colab_type": "text"
      },
      "source": [
        "## Balancing the data\n",
        "\n",
        "One aspect that needs to be taken care of in classification tasks is the number of samples per class. In our data we have about 63% benign cases. When we just always predict \"benign\" we would perform above chance level with an accuracy of 63%, but our model would be far away from what we want it to do. Namely, to predict the class beloning based on the input data.\n",
        "\n",
        "One possible solution is majority subsampling. In this approach we create a new dataset by randomly sampling from the larger class until we have a new set of equal size compared to the smaller class. This procedure is called class balancing.\n"
      ]
    },
    {
      "cell_type": "code",
      "metadata": {
        "id": "hiAw8aTMRldC",
        "colab_type": "code",
        "colab": {}
      },
      "source": [
        "# Get benign cases\n",
        "df_benign = cancer_df[cancer_df['diagnosis'] == 1]\n",
        "# Get malignant cases\n",
        "df_malignant = cancer_df[cancer_df['diagnosis'] == 0]"
      ],
      "execution_count": 0,
      "outputs": []
    },
    {
      "cell_type": "code",
      "metadata": {
        "id": "ECfXETwdRldL",
        "colab_type": "code",
        "colab": {
          "base_uri": "https://localhost:8080/",
          "height": 335
        },
        "outputId": "3f425edb-790b-4031-a604-bab07f35f11c"
      },
      "source": [
        "# For the balacing itself we use the function resample from sklearn.utils\n",
        "from sklearn.utils import resample\n",
        "# Resample majority class (benign)\n",
        "df_benign_downsampled = resample(df_benign, \n",
        "                                 replace=False,    # sample without replacement\n",
        "                                 n_samples=212,    # to match minority class\n",
        "                                 random_state=123) # reproducible results\n",
        "# Check whether we now have the same size (should be 212 rows)\n",
        "print(\"Shape of the benign class data: \"+str(df_benign_downsampled.shape))\n",
        "# Join the two sets again --> creats a balanced dataset\n",
        "cancer_df_balanced = pd.concat([df_benign_downsampled, df_malignant])\n",
        "# View the first and last lines of our dataframe\n",
        "print(cancer_df_balanced.head())\n",
        "print(cancer_df_balanced.tail())"
      ],
      "execution_count": 9,
      "outputs": [
        {
          "output_type": "stream",
          "text": [
            "Shape of the benign class data: (212, 31)\n",
            "     mean radius  mean texture  ...  worst fractal dimension  diagnosis\n",
            "388       11.270         15.50  ...                  0.10430          1\n",
            "116        8.950         15.76  ...                  0.07722          1\n",
            "58        13.050         19.31  ...                  0.06289          1\n",
            "234        9.567         15.91  ...                  0.08178          1\n",
            "109       11.340         21.26  ...                  0.08832          1\n",
            "\n",
            "[5 rows x 31 columns]\n",
            "     mean radius  mean texture  ...  worst fractal dimension  diagnosis\n",
            "563        20.92         25.09  ...                  0.09873          0\n",
            "564        21.56         22.39  ...                  0.07115          0\n",
            "565        20.13         28.25  ...                  0.06637          0\n",
            "566        16.60         28.08  ...                  0.07820          0\n",
            "567        20.60         29.33  ...                  0.12400          0\n",
            "\n",
            "[5 rows x 31 columns]\n"
          ],
          "name": "stdout"
        }
      ]
    },
    {
      "cell_type": "markdown",
      "metadata": {
        "id": "qV894BCIRldZ",
        "colab_type": "text"
      },
      "source": [
        "# Logistic regression \n",
        "\n",
        "The application of Logistic Regression looks very similar to the application of Linear Regression. We create a Logistic Regression object, then train it, and eventually use it for our predictions. We will use the Logistic Regression in a 10 times 10 cross validation loop to estimate the performance of the method on this dataset.\n",
        "\n",
        "Note: We no longer use the R² as a metric, but accuracy, because R² is only applyable in regression but not in classification tasks.\n",
        "\n",
        "Accuracy is calculated as:\n",
        "\n",
        "Accuracy = true prediction / all predictions"
      ]
    },
    {
      "cell_type": "code",
      "metadata": {
        "id": "SA6Sg-h1Rldb",
        "colab_type": "code",
        "colab": {}
      },
      "source": [
        "# Import logistic regression class, accuracy score\n",
        "from sklearn.linear_model import LogisticRegression\n",
        "from sklearn.metrics import accuracy_score\n",
        "# Prepare datframe for machine-learning (split in x and y)\n",
        "X = cancer_df_balanced.drop(columns = 'diagnosis')\n",
        "y = cancer_df_balanced['diagnosis']\n",
        "# Initiate the model score list\n",
        "model_score = []\n",
        "# Initalize list of true labels\n",
        "true_labels = []\n",
        "# Initialize list of predicted labels\n",
        "predicted_labels = []\n",
        "# Instanciate our Cross-Validation (cv) object\n",
        "our_cv = RepeatedKFold(n_splits=10, n_repeats=10)\n",
        "# Instanciate Logistic Regression \n",
        "log_reg = LogisticRegression(penalty='none', random_state=123, solver='saga', max_iter = 10000, warm_start=True)\n",
        "# Loop through the splits produced by cv\n",
        "for i_train, i_test in our_cv.split(X):\n",
        "    # Define our current training and test set according to the current split\n",
        "    X_train, X_test, y_train, y_test = X.iloc[i_train], X.iloc[i_test], y.iloc[i_train], y.iloc[i_test]\n",
        "    # Fitting the logistic regression\n",
        "    log_reg.fit(X_train, y_train.astype('int'))\n",
        "    # Predicting the testing data\n",
        "    y_pred_test = log_reg.predict(X_test)\n",
        "    # Getting accuracy score\n",
        "    model_score.append(accuracy_score(y_test.astype('int'), y_pred_test.astype('int')))\n",
        "    # Add true labels to list\n",
        "    true_labels.extend(y_test.astype('int'))\n",
        "    # Add predicted labels to list\n",
        "    predicted_labels.extend(y_pred_test.astype('int'))"
      ],
      "execution_count": 0,
      "outputs": []
    },
    {
      "cell_type": "markdown",
      "metadata": {
        "id": "FQm2Rn7nRldp",
        "colab_type": "text"
      },
      "source": [
        "## Classification performance\n",
        "\n",
        "There are different metrics used to evaluate our models performance. One common measure is the earlier introduced accuaracy. We calculate the score inside the cross-validation and take the mean in the end. "
      ]
    },
    {
      "cell_type": "code",
      "metadata": {
        "id": "Sil3DBdrRlds",
        "colab_type": "code",
        "colab": {
          "base_uri": "https://localhost:8080/",
          "height": 36
        },
        "outputId": "b1096142-5be4-4fc3-d099-0216eac31b3a"
      },
      "source": [
        "# Calculate the average accuracy over the 10-times 10-fold cross validation \n",
        "# Using n.mean over the 100 values in model_score\n",
        "print(\"Average accuracy of the logistic regression model is: \"+str(np.mean(model_score))+\" %\")"
      ],
      "execution_count": 11,
      "outputs": [
        {
          "output_type": "stream",
          "text": [
            "Average accuracy of the logistic regression model is: 0.909269102990033 %\n"
          ],
          "name": "stdout"
        }
      ]
    },
    {
      "cell_type": "markdown",
      "metadata": {
        "id": "dcCfVNX5Rld8",
        "colab_type": "text"
      },
      "source": [
        "#### Visualizing the model performance\n",
        "\n",
        "A confusion matrix is a good way to see for which type of examples the model performs well/not so well on. \n",
        "It illustrates the predicted classes versus the true classes in a matrix notation."
      ]
    },
    {
      "cell_type": "code",
      "metadata": {
        "id": "UoO7FD8CRld-",
        "colab_type": "code",
        "colab": {
          "base_uri": "https://localhost:8080/",
          "height": 279
        },
        "outputId": "a47e09ae-0fd5-427e-af94-50c45859a22f"
      },
      "source": [
        "# Create confusion matrix to visualize the correct/incorrect predictions\n",
        "# Import the confusion matrix function\n",
        "from sklearn.metrics import confusion_matrix\n",
        "# Compute the confusion matrix\n",
        "conf_mat = confusion_matrix(y_true=true_labels, y_pred=predicted_labels)\n",
        "# Define the labels for the confusion matrix\n",
        "labels = ['Class 0', 'Class 1']\n",
        "# Initiate an empty figure\n",
        "fig = plt.figure()\n",
        "# Add axis to the figure\n",
        "ax = fig.add_subplot(111)\n",
        "# Add the actual matrix\n",
        "cax = ax.matshow(conf_mat, cmap=plt.cm.Blues)\n",
        "# Show a colorbar\n",
        "fig.colorbar(cax)\n",
        "# Remove x and y ticks\n",
        "ax.set_xticklabels([''] + labels)\n",
        "ax.set_yticklabels([''] + labels)\n",
        "# Add x and y labels\n",
        "plt.xlabel('Predicted')\n",
        "plt.ylabel('Expected')\n",
        "# Add new x and y ticks\n",
        "for i in range(2):\n",
        "    for j in range(2):\n",
        "        ax.text(j, i, conf_mat[i, j], ha='center', va='center', color='r')\n",
        "# Show the plot\n",
        "plt.show()"
      ],
      "execution_count": 12,
      "outputs": [
        {
          "output_type": "display_data",
          "data": {
            "image/png": "[encoded data removed]",
            "text/plain": [
              "<Figure size 432x288 with 2 Axes>"
            ]
          },
          "metadata": {
            "tags": [],
            "needs_background": "light"
          }
        }
      ]
    },
    {
      "cell_type": "markdown",
      "metadata": {
        "id": "8InVVQraRleK",
        "colab_type": "text"
      },
      "source": [
        "In the matrix above, each row corresponds to a class and shows how often the method classified right (e.g. class0 as class0) or wrong (e.g. class 0 as class 1)."
      ]
    },
    {
      "cell_type": "markdown",
      "metadata": {
        "id": "_lRm4vloRleN",
        "colab_type": "text"
      },
      "source": [
        "If you want to dive even deeper into the different classification metrics have a look at the scikitlearn documentation:\n",
        "\n",
        "https://scikit-learn.org/stable/modules/generated/sklearn.metrics.precision_recall_fscore_support.html#:~:text=sklearn.,precision_recall_fscore_support&text=The%20precision%20is%20intuitively%20the,the%20number%20of%20false%20negatives."
      ]
    },
    {
      "cell_type": "markdown",
      "metadata": {
        "id": "3U9Bnj_1RleP",
        "colab_type": "text"
      },
      "source": [
        "## Decision trees\n",
        "\n",
        "Now that we have seen the performance of our logistic regression we can explore tree based methods for classification and see whether they can perform even better. "
      ]
    },
    {
      "cell_type": "code",
      "metadata": {
        "id": "lGlGqOLfRleS",
        "colab_type": "code",
        "colab": {}
      },
      "source": [
        "# Import decision tree class\n",
        "from sklearn import tree\n",
        "# Initiate the model score list\n",
        "model_score = []\n",
        "# Initalize list of true labels\n",
        "true_labels = []\n",
        "# Initialize list of predicted labels\n",
        "predicted_labels = []\n",
        "# Instanciate our Cross-Validation (cv) object\n",
        "our_cv = RepeatedKFold(n_splits=10, n_repeats=10)\n",
        "# Instanciate decision tree classifier (this is a fully grown, hence not optimized decison tree)\n",
        "dec_tree = tree.DecisionTreeClassifier()\n",
        "# Loop through the splits produced by cv\n",
        "for i_train, i_test in our_cv.split(X):\n",
        "    # Define our training and test set according to current split\n",
        "    X_train, X_test, y_train, y_test = X.iloc[i_train], X.iloc[i_test], y.iloc[i_train], y.iloc[i_test]\n",
        "    # Fitting the tree\n",
        "    dec_tree.fit(X_train, y_train.astype('int'))\n",
        "    # Predicting the testing data\n",
        "    y_pred_test = dec_tree.predict(X_test)\n",
        "    # Getting accuracy score\n",
        "    model_score.append(accuracy_score(y_test.astype('int'), y_pred_test.astype('int')))\n",
        "    # Add true labels to list\n",
        "    true_labels.extend(y_test.astype('int'))\n",
        "    # Add predicted labels to list\n",
        "    predicted_labels.extend(y_pred_test.astype('int'))"
      ],
      "execution_count": 0,
      "outputs": []
    },
    {
      "cell_type": "code",
      "metadata": {
        "id": "5HcIwy0jRlej",
        "colab_type": "code",
        "colab": {
          "base_uri": "https://localhost:8080/",
          "height": 36
        },
        "outputId": "02e5b928-c954-4ab4-ffc9-d22812f8d412"
      },
      "source": [
        "# Calculate the average accuracy over the 10-times 10-fold cross validation \n",
        "# Using n.mean over the 100 values in model_score\n",
        "print(\"Average accuracy of the decision tree model is: \"+str(np.mean(model_score))+\" %\")"
      ],
      "execution_count": 14,
      "outputs": [
        {
          "output_type": "stream",
          "text": [
            "Average accuracy of the decision tree model is: 0.9290697674418606 %\n"
          ],
          "name": "stdout"
        }
      ]
    },
    {
      "cell_type": "code",
      "metadata": {
        "id": "uA8CG8n3Rleu",
        "colab_type": "code",
        "colab": {
          "base_uri": "https://localhost:8080/",
          "height": 279
        },
        "outputId": "940eb2dc-e23e-4e36-a7c1-17eab720aa4c"
      },
      "source": [
        "# Create confusion matrix to visualize the correct/incorrect predictions\n",
        "# Import the confusion matrix function\n",
        "from sklearn.metrics import confusion_matrix\n",
        "# Compute the confusion matrix\n",
        "conf_mat = confusion_matrix(y_true=true_labels, y_pred=predicted_labels)\n",
        "# Define the labels for the confusion matrix\n",
        "labels = ['Class 0', 'Class 1']\n",
        "# Initiate an empty figure\n",
        "fig = plt.figure()\n",
        "# Add axis to the figure\n",
        "ax = fig.add_subplot(111)\n",
        "# Add the actual matrix\n",
        "cax = ax.matshow(conf_mat, cmap=plt.cm.Blues)\n",
        "# Show a colorbar\n",
        "fig.colorbar(cax)\n",
        "# Remove x and y ticks\n",
        "ax.set_xticklabels([''] + labels)\n",
        "ax.set_yticklabels([''] + labels)\n",
        "# Add x and y labels\n",
        "plt.xlabel('Predicted')\n",
        "plt.ylabel('Expected')\n",
        "# Add new x and y ticks\n",
        "for i in range(2):\n",
        "    for j in range(2):\n",
        "        ax.text(j, i, conf_mat[i, j], ha='center', va='center', color='r')\n",
        "# Show the plot\n",
        "plt.show()"
      ],
      "execution_count": 15,
      "outputs": [
        {
          "output_type": "display_data",
          "data": {
            "image/png": "[encoded data removed]",
            "text/plain": [
              "<Figure size 432x288 with 2 Axes>"
            ]
          },
          "metadata": {
            "tags": [],
            "needs_background": "light"
          }
        }
      ]
    },
    {
      "cell_type": "markdown",
      "metadata": {
        "id": "HORd0skmRle3",
        "colab_type": "text"
      },
      "source": [
        "## Random Forest classifier"
      ]
    },
    {
      "cell_type": "code",
      "metadata": {
        "id": "Pu1sN0xxRle5",
        "colab_type": "code",
        "colab": {}
      },
      "source": [
        "# Import Random forest classifier\n",
        "from sklearn.ensemble import RandomForestClassifier\n",
        "# Initiate the model score list\n",
        "model_score = []\n",
        "# Initalize list of true labels\n",
        "true_labels = []\n",
        "# Initialize list of predicted labels\n",
        "predicted_labels = []\n",
        "# Instanciate our Cross-Validation (cv) object\n",
        "our_cv = RepeatedKFold(n_splits=10, n_repeats=10)\n",
        "# Instanciate decision tree classifier \n",
        "dec_tree =RandomForestClassifier(n_estimators=100)\n",
        "# Loop through the splits produced by cv\n",
        "for i_train, i_test in our_cv.split(X):\n",
        "    # Define our training and test set according to current split\n",
        "    X_train, X_test, y_train, y_test = X.iloc[i_train], X.iloc[i_test], y.iloc[i_train], y.iloc[i_test]\n",
        "    # Fitting the tree\n",
        "    dec_tree.fit(X_train, y_train.astype('int'))\n",
        "    # Predicting the testing data\n",
        "    y_pred_test = dec_tree.predict(X_test)\n",
        "    # Getting accuracy score\n",
        "    model_score.append(accuracy_score(y_test.astype('int'), y_pred_test.astype('int')))\n",
        "    # Add true labels to list\n",
        "    true_labels.extend(y_test.astype('int'))\n",
        "    # Add predicted labels to list\n",
        "    predicted_labels.extend(y_pred_test.astype('int'))"
      ],
      "execution_count": 0,
      "outputs": []
    },
    {
      "cell_type": "code",
      "metadata": {
        "id": "9rfx0AmdRle_",
        "colab_type": "code",
        "colab": {
          "base_uri": "https://localhost:8080/",
          "height": 36
        },
        "outputId": "f20cd531-d238-4ba0-ee76-cb85e565dc61"
      },
      "source": [
        "# Calculate the average accuracy over the 10-times 10-fold cross validation \n",
        "# Using n.mean over the 100 values in model_score\n",
        "print(\"Average accuracy of the random forests model is: \"+str(np.mean(model_score))+\" %\")"
      ],
      "execution_count": 17,
      "outputs": [
        {
          "output_type": "stream",
          "text": [
            "Average accuracy of the random forests model is: 0.9653709856035438 %\n"
          ],
          "name": "stdout"
        }
      ]
    },
    {
      "cell_type": "code",
      "metadata": {
        "id": "1-z00SeIRlfJ",
        "colab_type": "code",
        "colab": {
          "base_uri": "https://localhost:8080/",
          "height": 279
        },
        "outputId": "ca284915-2f6c-4e29-d4e8-873c5f8921b9"
      },
      "source": [
        "# Create confusion matrix to visualize the correct/incorrect predictions\n",
        "# Import the confusion matrix function\n",
        "from sklearn.metrics import confusion_matrix\n",
        "# Compute the confusion matrix\n",
        "conf_mat = confusion_matrix(y_true=true_labels, y_pred=predicted_labels)\n",
        "# Define the labels for the confusion matrix\n",
        "labels = ['Class 0', 'Class 1']\n",
        "# Initiate an empty figure\n",
        "fig = plt.figure()\n",
        "# Add axis to the figure\n",
        "ax = fig.add_subplot(111)\n",
        "# Add the actual matrix\n",
        "cax = ax.matshow(conf_mat, cmap=plt.cm.Blues)\n",
        "# Show a colorbar\n",
        "fig.colorbar(cax)\n",
        "# Remove x and y ticks\n",
        "ax.set_xticklabels([''] + labels)\n",
        "ax.set_yticklabels([''] + labels)\n",
        "# Add x and y labels\n",
        "plt.xlabel('Predicted')\n",
        "plt.ylabel('Expected')\n",
        "# Add new x and y ticks\n",
        "for i in range(2):\n",
        "    for j in range(2):\n",
        "        ax.text(j, i, conf_mat[i, j], ha='center', va='center', color='r')\n",
        "# Show the plot\n",
        "plt.show()"
      ],
      "execution_count": 18,
      "outputs": [
        {
          "output_type": "display_data",
          "data": {
            "image/png": "[encoded data removed]",
            "text/plain": [
              "<Figure size 432x288 with 2 Axes>"
            ]
          },
          "metadata": {
            "tags": [],
            "needs_background": "light"
          }
        }
      ]
    },
    {
      "cell_type": "markdown",
      "metadata": {
        "id": "gUG1vAvuRlfS",
        "colab_type": "text"
      },
      "source": [
        "It seems that decsion tree based methods can predict this dataset better than the logistic regression. And within the decision tree based methods, random forests seems to be the superior method. Here we can speculate that since the decision tree methods are able to capture non-lienar relationships and since they perform better, that this dataset has indeed non-linear relathionships between predictors and classes."
      ]
    },
    {
      "cell_type": "markdown",
      "metadata": {
        "id": "KQAt0IhsRlfT",
        "colab_type": "text"
      },
      "source": [
        "# Συγχαρητήρια που ολοκληρώσατε ένα ακόμα μάθημα ML!\n",
        "\n"
      ]
    },
    {
      "cell_type": "markdown",
      "metadata": {
        "id": "R5JMOFqtRlfY",
        "colab_type": "text"
      },
      "source": [
        "#### Άσκηση  \n",
        "\n",
        "Θα επαναλάβουμε αυτά που μάθαμε παραπάνω σε ένα διαφορετικό παράδειγμα.\n",
        "Τη Μηχανική Μάθηση μπορούμε να την εφαρμόσουμε σε πολλους τομείς και τώρα θα μεταβούμε από την πρόβλεψη καρκινικών όγκων στην εύρεση πλαστογραφημμένων χαρτονομισμάτων!\n",
        " \n",
        "Το  Banknote Dataset περιέχει δεδομένα σχετικά με χαρακτηριστικά από χαρτονομίσματα και συγκεκριμένα δολάρια και παρουσιάζει ποια από αυτά είναι πλαστά και ποια όχι.\n",
        "\n",
        "\n",
        "Είναι ένα δυαδικό (2-class) πρόβλημα κατηγοριοποίησης. Ο αριθμός των παρατηρίσεων δεν είναι σε ισορροπία (un-balanced data). Υπάρχουν 1,372 παρατηρήσεις σε 4 μεταβλητές εισόδου και μία μεταβλητή εξόδου.\n",
        "Τα ονόματα των μεταβλητών είναι τα εξής:\n",
        "\n",
        "- Variance of Wavelet Transformed image (continuous).\n",
        "- Skewness of Wavelet Transformed image (continuous).\n",
        "- Kurtosis of Wavelet Transformed image (continuous).\n",
        "- Entropy of image (continuous).\n",
        "- Class (0 για αυθεντικά, 1 για πλαστά).\n",
        "\n",
        "Στόχος:\n",
        "Χρησιμοποιήστε τις παραπάνω τεχνικές κατηγοριοποίησης και προσπαθήστε να προβλέψετε ποια χαρτονομίσματα είναι αυθεντικά και ποια πλαστά.  Τα δεδομένα θα τα βρείτε στο github που δείχνουμε παρακάτω. \n",
        "(Hint: Θυμηθείτε το data balancing)\n",
        "\n",
        "\n",
        "Πηγή:\n",
        "\n",
        "http://archive.ics.uci.edu/ml/datasets/banknote+authentication\n",
        "\n",
        "που έχει αντιγραφεί στο github:\n",
        "\n",
        "https://raw.githubusercontent.com/cmourlas/ML-algorithms/master/week10/data_banknote_authentication.csv\n",
        "\n",
        "Dua, D. and Graff, C. (2019). UCI Machine Learning Repository [http://archive.ics.uci.edu/ml]. Irvine, CA: University of California, School of Information and Computer Science."
      ]
    },
    {
      "cell_type": "code",
      "metadata": {
        "id": "_3zKi8V_RlfZ",
        "colab_type": "code",
        "colab": {}
      },
      "source": [
        ""
      ],
      "execution_count": 0,
      "outputs": []
    }
  ]
}