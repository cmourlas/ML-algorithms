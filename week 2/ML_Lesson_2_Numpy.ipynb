{
 "cells": [
  {
   "cell_type": "markdown",
   "metadata": {},
   "source": [
    "# Μάθημα 2: Βασικά πακέτα"
   ]
  },
  {
   "cell_type": "markdown",
   "metadata": {},
   "source": [
    "## Τα βασικά: Τύποι δεδομένων και δομές δεδομένων:\n",
    "\n",
    "\n",
    "Μάθαμε την προηγούμενη φορά τους τύπους δεδομένων:\n",
    "\n",
    "• Integers: int( ) x = 93\n",
    "\n",
    "• Float: float( ) x = 93.55\n",
    "\n",
    "• Complex: x = 4 + 3j\n",
    "\n",
    "• Bool: bool( ) x = True\n",
    "\n",
    "• Strings: str( ) x = \"Hello Python\"\n",
    "\n",
    "• Lists: list( ) x = [78, 2, 9, -1]\n",
    "\n",
    "• Dictionaries: x = {\"a\": [1, 2], \"b\": 7.8, \"c\":9}\n",
    "\n",
    "\n",
    "#### Νέοι τύποι δεδομένων:\n",
    "\n",
    "• Numpy - Arrays:\n",
    "    μοιάζουν με τις λίστες (lists)\n",
    "\n",
    "• Panda - Dataframes:\n",
    "    μοιάζουν με αρχεία του excel"
   ]
  },
  {
   "cell_type": "markdown",
   "metadata": {},
   "source": [
    "### Πακέτα NumPy & Numpy Arrays"
   ]
  },
  {
   "cell_type": "markdown",
   "metadata": {},
   "source": [
    "![Image of operators](https://upload.wikimedia.org/wikipedia/commons/thumb/1/1a/NumPy_logo.svg/1200px-NumPy_logo.svg.png)"
   ]
  },
  {
   "cell_type": "markdown",
   "metadata": {},
   "source": [
    "#### The NumPy package\n",
    "\n",
    "To Numpy υποστηρίζει μεγάλα, πολλών διαστάσεων διανύσματα και πίνακες στην Python, μαζί με μια συλλογή από σημαντικές μαθηματικές συναρτήσεις που χρειάζονται για τους υπολογισμούς των πινάκων αυτών (γραμμική άλγεβρα κ.λπ.).\n",
    "\n",
    "#### Numpy Arrays\n",
    "\n",
    "Κυρίως σε συνδυασμό με άλλα πακέτα το NumPy δημιουργεί μια νέα δομή την array, η οποία δίνει τη δυνατότητα να ορισθούν διανύσματα και πίνακες. Το array είναι μια δομή που μοιάζει με τη δομή list της Python. Σε αντίθεση με τη list η διάσταση ενός array είναι ορισμένη από την αρχή και αποθηκεύει αντικείμενα που είναι μόνο του ίδου τύπου (δηλαδή int, float, boolean, str, ...)\n",
    "\n",
    "Άρα το κυρίως αντικείμενο του Numpy είναι ένα ομογενές διάστημα πολλών διαστάσεων και στην ουσία είναι ένας πίνακας στοιχείων, συνήθως αριθμών, του ίδιου τύπου. Οι διαστάσεις ονομάζονται axes. Όπως και στις λίστες για να καλέσουμε ένα np.array χρησιμοποιούμε τις παρενθέσεις. \n",
    "\n",
    "Το Index ξεκινά από το 0.\n",
    "\n",
    "Με την εντολή array([1, 2, 3]) δημιουργούμε ένα αντικείμενο array που έχει διάσταση 1.\n",
    "\n",
    "Είναι το διάνυσμα [1, 2, 3].\n",
    "\n",
    "*Παράδειγμα:*"
   ]
  },
  {
   "cell_type": "code",
   "execution_count": 13,
   "metadata": {},
   "outputs": [
    {
     "data": {
      "text/plain": [
       "1"
      ]
     },
     "execution_count": 13,
     "metadata": {},
     "output_type": "execute_result"
    }
   ],
   "source": [
    "import numpy as np\n",
    "\n",
    "my_array = np.array( [1, 2, 3] ) \n",
    "#για να καλέσουμε ένα στοιχείο: \n",
    "x = my_array[0]\n",
    "x "
   ]
  },
  {
   "cell_type": "markdown",
   "metadata": {},
   "source": [
    "Όπως είδατε παραπάνω πρώτα πρέπει να καλέσουμε το πακέτο με το **import numpy as np**\n",
    "\n",
    "(αν δουλεύαμε τοπικά τότε πρώτα θα έπρεπε να εγκαταστήσουμε το πακέτο **με pip3 install numpy**  (στο terminal) και μετά να το καλέσουμε μέσα στο περιβάλλον εργασίας μας).\n"
   ]
  },
  {
   "cell_type": "markdown",
   "metadata": {},
   "source": [
    "Όπως και στις λίστες, υπάρχουν διάφορες εντολές οι οποίες μας δίνουν πληροφορίες για ένα αντικείμενο array. \n",
    "Το ndim επιστρέφει τη διάσταση του array , η shape τη μορφή και η dtype το είδος\n",
    "των στοιχείων του array."
   ]
  },
  {
   "cell_type": "code",
   "execution_count": 17,
   "metadata": {},
   "outputs": [
    {
     "name": "stdout",
     "output_type": "stream",
     "text": [
      "1\n",
      "<class 'numpy.ndarray'>\n",
      "(3,)\n"
     ]
    }
   ],
   "source": [
    "#διάσταση\n",
    "print(my_array.ndim)\n",
    "#τύπος\n",
    "print(type(my_array))\n",
    "#μορφή\n",
    "print(my_array.shape)"
   ]
  },
  {
   "cell_type": "markdown",
   "metadata": {},
   "source": [
    "Τα μονοδιάστατα arrays μπορούν να ταξινομηθούν, να κομματιαστούν κ.λπ. όπως ακριβώς και οι λίστες στην \n",
    "Python.\n",
    "\n",
    "*Παράδειγμα:* 1D"
   ]
  },
  {
   "cell_type": "code",
   "execution_count": 18,
   "metadata": {},
   "outputs": [
    {
     "data": {
      "text/plain": [
       "array([78,  2])"
      ]
     },
     "execution_count": 18,
     "metadata": {},
     "output_type": "execute_result"
    }
   ],
   "source": [
    "data = np.array([78, 2, 9, -1])\n",
    "data[0] # το indexing επιστρέφει 78\n",
    "data[2] # το indexing επιστρέφει  9\n",
    "data[2: ] # το slicing επιστρέφει ένα νέο array – επιστρέφει : 9, -1\n",
    "data[:2 ] # το slicing  επιστρέφει ένα νέο  array – επιστρέφει : 78,2"
   ]
  },
  {
   "cell_type": "code",
   "execution_count": 26,
   "metadata": {},
   "outputs": [
    {
     "name": "stdout",
     "output_type": "stream",
     "text": [
      "[1 2 3 4]\n"
     ]
    }
   ],
   "source": [
    "e =np.array([1,2,3,4,5])\n",
    "print(e[0:4])"
   ]
  },
  {
   "cell_type": "markdown",
   "metadata": {},
   "source": [
    "Τα πολυδιάστατα arrays μπορούν να έχουν ένα index ανά axis. \n",
    "Αυτοί οι αριθμοί δίνονται σε ένα tuple (πλειάδα) που χωρίζεται με κόμματα.\n",
    "\n",
    "*Παράδειγμα:* 2D   (2-διάστατο (μορφή πίνακα) array)"
   ]
  },
  {
   "cell_type": "code",
   "execution_count": 35,
   "metadata": {},
   "outputs": [],
   "source": [
    "data2D = np.array( [[8, 2, -1] , [7, 6, -1]] )"
   ]
  },
  {
   "cell_type": "markdown",
   "metadata": {},
   "source": [
    "Σε ένα πολυδιάστατο array πρέπει να ορίσουμε το κομμάτιασμα σε κάθε διάσταση,\n",
    "\n",
    "δηλαδή data2D[rows, columns ]\n"
   ]
  },
  {
   "cell_type": "code",
   "execution_count": 36,
   "metadata": {},
   "outputs": [
    {
     "data": {
      "text/plain": [
       "array([8, 7])"
      ]
     },
     "execution_count": 36,
     "metadata": {},
     "output_type": "execute_result"
    }
   ],
   "source": [
    "data2D[:2, 0 ] # επιστρέφει ένα νέο array"
   ]
  },
  {
   "cell_type": "code",
   "execution_count": 29,
   "metadata": {},
   "outputs": [],
   "source": [
    "a=np.array([[1,2,5],[3,4,6],[5,6,8]])"
   ]
  },
  {
   "cell_type": "code",
   "execution_count": 31,
   "metadata": {},
   "outputs": [
    {
     "name": "stdout",
     "output_type": "stream",
     "text": [
      "[2 4 6]\n"
     ]
    }
   ],
   "source": [
    "print(a[:,1]) # δεύτερη στήλη"
   ]
  },
  {
   "cell_type": "code",
   "execution_count": 32,
   "metadata": {},
   "outputs": [
    {
     "name": "stdout",
     "output_type": "stream",
     "text": [
      "[[1 2 5]\n",
      " [3 4 6]]\n"
     ]
    }
   ],
   "source": [
    "print(a[0:2,:]) # δυο πρώτες γραμμές"
   ]
  },
  {
   "cell_type": "code",
   "execution_count": 33,
   "metadata": {},
   "outputs": [
    {
     "name": "stdout",
     "output_type": "stream",
     "text": [
      "[[4 6]\n",
      " [6 8]]\n"
     ]
    }
   ],
   "source": [
    "print(a[1:,1:]) # κάτω δεξια υποπίνακας"
   ]
  },
  {
   "cell_type": "markdown",
   "metadata": {},
   "source": [
    "#### Πράξεις \n",
    "\n",
    "\n",
    "Τα διαστήματα διαφέρουν από τις λίστες και γιαυτό στο σημείο αυτό χρειάζεται λίγη προσοχή. \n",
    "\n",
    "Το αποτέλεσμα κάθε πράξης αποθηκεύεται σε ένα **νέο** array."
   ]
  },
  {
   "cell_type": "code",
   "execution_count": 37,
   "metadata": {},
   "outputs": [],
   "source": [
    "data_a = np.array( [8, 2, 1, -1] )"
   ]
  },
  {
   "cell_type": "code",
   "execution_count": 38,
   "metadata": {},
   "outputs": [
    {
     "data": {
      "text/plain": [
       "array([14,  6, 11, -1])"
      ]
     },
     "execution_count": 38,
     "metadata": {},
     "output_type": "execute_result"
    }
   ],
   "source": [
    "data_a + [6, 4, 10,0]"
   ]
  },
  {
   "cell_type": "markdown",
   "metadata": {},
   "source": [
    "Ενώ η λίστα στο παραπάνω παράδειγμα θα επέστρεφε: [8, 2, 1, -1, 6, 4, 10, 0]"
   ]
  },
  {
   "cell_type": "code",
   "execution_count": 40,
   "metadata": {},
   "outputs": [
    {
     "data": {
      "text/plain": [
       "array([16,  4,  2, -2])"
      ]
     },
     "execution_count": 40,
     "metadata": {},
     "output_type": "execute_result"
    }
   ],
   "source": [
    "data_a * 2"
   ]
  },
  {
   "cell_type": "markdown",
   "metadata": {},
   "source": [
    "Ενώ η λίστα στο παραπάνω παράδειγμα θα επέστρεφε:: [8, 2, 1, -1, 8, 2, 1, -1]"
   ]
  },
  {
   "cell_type": "markdown",
   "metadata": {},
   "source": [
    "### Ένωση arrays:\n",
    "\n",
    "Προσοχή: Οι διαστάσεις των input arrays πρέπει να ταιριάζουν ακριβώς!\n",
    "\n",
    "*Παράδειγμα:* np.concatenate((data1, data2), axis=0)"
   ]
  },
  {
   "cell_type": "markdown",
   "metadata": {},
   "source": [
    "Με τον καθορισμό του **axis** με το οποίο θα γίνει η ένωση λέμε στην   Python πώς θέλουμε να ενώσει τα 2 διαστήματα, κάθετα ή οριζόντια:\n",
    "\n",
    "•  axis= 0 ….. για κάθε column\n",
    "\n",
    "•  axis= 1 ….. για κάθε row"
   ]
  },
  {
   "cell_type": "markdown",
   "metadata": {},
   "source": [
    "#### Πρόσθεση / Αφαίρεση στοιχείων:\n",
    "•  np.insert(data, 1,5) πρόσθεση στοιχείων στο array\n",
    "\n",
    "•  np.delete(data, [1]) αφαίρεση στοιχείων από το array"
   ]
  },
  {
   "cell_type": "markdown",
   "metadata": {},
   "source": [
    "#### Μαθηματικές λειτουργίες:\n",
    "\n",
    "• my_array.shape διαστάσεις του my_array \n",
    "\n",
    "• np.mean(variable) το mean του array\n",
    "\n",
    "• np.median(variable) το median του array\n",
    "\n",
    "• np.std(variable) το standard deviation του array"
   ]
  },
  {
   "cell_type": "markdown",
   "metadata": {},
   "source": [
    "#### Γραμμική Άλγεβρα\n",
    "\n",
    "• Μετατόπιση (Transposing): np.transpose(data) \n",
    "\n",
    "Μετατρέπει τις διαστάσεις του array, (από οριζόντια διάταση, θα έχουν κάθετη διάταξη μετά την μετατόπιση, φανταστείτε σε ένα excel τις γραμμές να μετατρέπονται σε στήλες και το αντίθετο). \n"
   ]
  },
  {
   "cell_type": "code",
   "execution_count": 44,
   "metadata": {},
   "outputs": [
    {
     "data": {
      "text/plain": [
       "array([[1. , 3. , 5. ],\n",
       "       [2. , 4. , 9. ],\n",
       "       [3. , 6.7, 5. ]])"
      ]
     },
     "execution_count": 44,
     "metadata": {},
     "output_type": "execute_result"
    }
   ],
   "source": [
    "a = np.array ( [[1, 2, 3], [3, 4, 6.7], [5, 9.0, 5]] )\n",
    "\n",
    "a.transpose() "
   ]
  },
  {
   "cell_type": "markdown",
   "metadata": {},
   "source": [
    "#### Δουλέυοντας με τυχαίους αριθμούς:"
   ]
  },
  {
   "cell_type": "code",
   "execution_count": 45,
   "metadata": {},
   "outputs": [
    {
     "data": {
      "text/plain": [
       "array([[0.28950629, 0.04544329],\n",
       "       [0.39617448, 0.6023448 ]])"
      ]
     },
     "execution_count": 45,
     "metadata": {},
     "output_type": "execute_result"
    }
   ],
   "source": [
    "np.random.random((2,2)) #δημιουργεί ένα array με τυχαίους αριθμούς"
   ]
  },
  {
   "cell_type": "code",
   "execution_count": 48,
   "metadata": {},
   "outputs": [],
   "source": [
    "#np.random.randn(rows, columns) δημιουργεί ένα array με τυχαίους κανονικά κατανεμημένους αριθμούς \n",
    "random_numbers = np.random.randn(5,2)"
   ]
  }
 ],
 "metadata": {
  "kernelspec": {
   "display_name": "Python 3",
   "language": "python",
   "name": "python3"
  },
  "language_info": {
   "codemirror_mode": {
    "name": "ipython",
    "version": 3
   },
   "file_extension": ".py",
   "mimetype": "text/x-python",
   "name": "python",
   "nbconvert_exporter": "python",
   "pygments_lexer": "ipython3",
   "version": "3.7.2"
  }
 },
 "nbformat": 4,
 "nbformat_minor": 2
}
